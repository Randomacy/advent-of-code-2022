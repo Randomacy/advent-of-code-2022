{
 "cells": [
  {
   "cell_type": "code",
   "execution_count": 12,
   "id": "74acf633",
   "metadata": {},
   "outputs": [
    {
     "name": "stdout",
     "output_type": "stream",
     "text": [
      "5659\n",
      "22110\n"
     ]
    }
   ],
   "source": [
    "# Day Thirteen\n",
    "\n",
    "## Prep\n",
    "\n",
    "def compare(l1, l2):\n",
    "    for e1, e2 in zip(l1, l2):\n",
    "        if isinstance(e1, int) and isinstance(e2, int):\n",
    "            if e1 < e2:\n",
    "                return 1\n",
    "            if e1 > e2:\n",
    "                return -1\n",
    "        elif isinstance(e1, list) and isinstance(e2, list):\n",
    "            result = compare(e1, e2)\n",
    "            if result != 0:\n",
    "                return result\n",
    "        elif isinstance(e1, int): # e1 is int; e2 is list\n",
    "            result = compare([e1], e2)\n",
    "            if result != 0:\n",
    "                return result\n",
    "        else: # e1 is int; e2 is list\n",
    "            result = compare(e1, [e2])\n",
    "            if result != 0:\n",
    "                return result\n",
    "    \n",
    "    # if we reached this point, no differences were found.\n",
    "    if len(l1) < len(l2): # left side ran out of items first\n",
    "        return 1\n",
    "    elif len(l1) > len(l2): # right side ran out of items first\n",
    "        return -1\n",
    "    \n",
    "    return 0\n",
    "\n",
    "packets = {\n",
    "    i: (eval(p[0]), eval(p[1]))\n",
    "    for i, p in enumerate([p.splitlines() for p in open(\"input.txt\").read().split(\"\\n\\n\")], 1)\n",
    "}\n",
    "\n",
    "\n",
    "## Part One\n",
    "\n",
    "print(sum(key for key, value in packets.items() if compare(value[0], value[1]) == 1))\n",
    "\n",
    "\n",
    "## Part Two\n",
    "\n",
    "all_packets = [u for v in list(packets.values()) for u in v] + [[[2]], [[6]]]\n",
    "print((1 + sum(1 for p in all_packets if compare(p, [[2]]) == 1)) * (1 + sum(1 for p in all_packets if compare(p, [[6]]) == 1)))\n"
   ]
  },
  {
   "cell_type": "code",
   "execution_count": null,
   "id": "7d616aaf",
   "metadata": {},
   "outputs": [],
   "source": []
  }
 ],
 "metadata": {
  "kernelspec": {
   "display_name": "Python 3 (ipykernel)",
   "language": "python",
   "name": "python3"
  },
  "language_info": {
   "codemirror_mode": {
    "name": "ipython",
    "version": 3
   },
   "file_extension": ".py",
   "mimetype": "text/x-python",
   "name": "python",
   "nbconvert_exporter": "python",
   "pygments_lexer": "ipython3",
   "version": "3.9.7"
  }
 },
 "nbformat": 4,
 "nbformat_minor": 5
}
