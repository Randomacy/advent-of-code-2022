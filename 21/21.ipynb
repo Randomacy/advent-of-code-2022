{
 "cells": [
  {
   "cell_type": "code",
   "execution_count": 4,
   "id": "50fd429f",
   "metadata": {},
   "outputs": [
    {
     "name": "stdout",
     "output_type": "stream",
     "text": [
      "72664227897438\n"
     ]
    }
   ],
   "source": [
    "import re\n",
    "with open('input.txt', 'r') as inputFile:\n",
    "    for line in inputFile:\n",
    "        line = re.sub(r\"([a-z]{4})\",r\"\\1()\", line)\n",
    "        line = \"def \" + line\n",
    "        line = re.sub(r\":\", r\": return\", line)\n",
    "        exec(line)\n",
    "print(int(root()))"
   ]
  },
  {
   "cell_type": "code",
   "execution_count": 5,
   "id": "27be87bc",
   "metadata": {},
   "outputs": [
    {
     "name": "stdout",
     "output_type": "stream",
     "text": [
      "3916491093817\n"
     ]
    }
   ],
   "source": [
    "#!/usr/bin/python3\n",
    "import re\n",
    "with open('input.txt', 'r') as inputFile:\n",
    "    for line in inputFile:\n",
    "        if \"root:\" in line:\n",
    "            m = re.findall(\"[a-z]{4}\",line)\n",
    "            func1 = eval(m[1])\n",
    "            func2 = eval(m[2])\n",
    "            continue\n",
    "        line = re.sub(r\"([a-z]{4})\",r\"\\1()\", line)\n",
    "        line = \"def \" + line\n",
    "        line = re.sub(r\":\", r\": return\", line)\n",
    "        exec(line)\n",
    "\n",
    "def humn(): return 1\n",
    "f1_1 = func1()\n",
    "def humn(): return 2\n",
    "f1_2 = func1()\n",
    "\n",
    "if f1_1 < f1_2:\n",
    "    reverseDir = True\n",
    "else:\n",
    "    reverseDir = False\n",
    "\n",
    "lowerBound = 0\n",
    "upperBound = 1e16\n",
    "f2 = func2()\n",
    "while True:\n",
    "    i = (upperBound + lowerBound) // 2\n",
    "    def humn(): return i\n",
    "\n",
    "    f1 = func1()\n",
    "\n",
    "    if f1 > f2:\n",
    "        if reverseDir:\n",
    "            upperBound = i\n",
    "        else:\n",
    "            lowerBound = i\n",
    "    elif f2 > f1:\n",
    "        if reverseDir:\n",
    "            lowerBound = i\n",
    "        else:\n",
    "            upperBound = i\n",
    "    else:\n",
    "        print(int(i))\n",
    "        break"
   ]
  },
  {
   "cell_type": "code",
   "execution_count": null,
   "id": "aa30eee2",
   "metadata": {},
   "outputs": [],
   "source": []
  }
 ],
 "metadata": {
  "kernelspec": {
   "display_name": "Python 3 (ipykernel)",
   "language": "python",
   "name": "python3"
  },
  "language_info": {
   "codemirror_mode": {
    "name": "ipython",
    "version": 3
   },
   "file_extension": ".py",
   "mimetype": "text/x-python",
   "name": "python",
   "nbconvert_exporter": "python",
   "pygments_lexer": "ipython3",
   "version": "3.9.7"
  }
 },
 "nbformat": 4,
 "nbformat_minor": 5
}
