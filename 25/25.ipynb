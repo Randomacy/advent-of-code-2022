{
 "cells": [
  {
   "cell_type": "code",
   "execution_count": 3,
   "id": "3ca1f04d",
   "metadata": {},
   "outputs": [
    {
     "name": "stdout",
     "output_type": "stream",
     "text": [
      "2-212-2---=00-1--102\n"
     ]
    }
   ],
   "source": [
    "from functools import reduce\n",
    "\n",
    "def SNAFUtoDec(num):\n",
    "    return reduce(\n",
    "        lambda r, v: (\n",
    "            r[0] + (\"=-012\".index(v) - 2)* r[1],\n",
    "            r[1] * 5,\n",
    "        ),\n",
    "        num[::-1],\n",
    "        (0, 1),\n",
    "    )[0]\n",
    "\n",
    "def DecToSNAFU(num): # assume non-zero\n",
    "    res = []\n",
    "    while num > 0:\n",
    "        res.append(\"012=-\"[num % 5])\n",
    "        num = (2 + num) // 5\n",
    "    return ''.join(res[::-1])\n",
    "\n",
    "print (DecToSNAFU(sum(SNAFUtoDec(l) for l in open('input.txt').read().splitlines())))"
   ]
  },
  {
   "cell_type": "code",
   "execution_count": null,
   "id": "79f30e3a",
   "metadata": {},
   "outputs": [],
   "source": []
  }
 ],
 "metadata": {
  "kernelspec": {
   "display_name": "Python 3 (ipykernel)",
   "language": "python",
   "name": "python3"
  },
  "language_info": {
   "codemirror_mode": {
    "name": "ipython",
    "version": 3
   },
   "file_extension": ".py",
   "mimetype": "text/x-python",
   "name": "python",
   "nbconvert_exporter": "python",
   "pygments_lexer": "ipython3",
   "version": "3.9.7"
  }
 },
 "nbformat": 4,
 "nbformat_minor": 5
}
