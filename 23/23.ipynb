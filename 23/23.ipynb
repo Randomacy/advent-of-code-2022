{
 "cells": [
  {
   "cell_type": "code",
   "execution_count": 1,
   "id": "b8f6c397",
   "metadata": {},
   "outputs": [
    {
     "name": "stdout",
     "output_type": "stream",
     "text": [
      "Part 1: 3882\n",
      "Part 2: 1116\n"
     ]
    }
   ],
   "source": [
    "from itertools import cycle\n",
    "from collections import defaultdict\n",
    "\n",
    "def read_input():\n",
    "    with open (r'input.txt') as f:\n",
    "        return set((x,y) for y, l in enumerate(f.readlines()) for x, c in enumerate(l) if c == '#')\n",
    "\n",
    "def move_elves(elves, first_direction):\n",
    "    proposals = defaultdict(list)\n",
    "    start_facing = next(first_direction)\n",
    "\n",
    "    for elf in elves:\n",
    "        if not any((elf[0] + looking[0], elf[1] + looking[1]) in elves for looking in omni_elf):\n",
    "            continue\n",
    "\n",
    "        for i in range(4):\n",
    "            crowded = False\n",
    "            for direction in directions[(start_facing + i) % 4]:\n",
    "                if (elf[0] + direction[0], elf[1] + direction[1]) in elves:\n",
    "                    crowded = True\n",
    "                    break\n",
    "            if not crowded:\n",
    "                direction = directions[(start_facing + i) % 4][1]\n",
    "                proposals[(elf[0] + direction[0], elf[1] + direction[1])].append(elf)\n",
    "                break\n",
    "    \n",
    "    for proposal in proposals:\n",
    "        if len(proposals[proposal]) == 1:\n",
    "            elves.remove(proposals[proposal][0])\n",
    "            elves.add(proposal)\n",
    "    \n",
    "    return len(proposals) == 0\n",
    "\n",
    "def solve_part_1():\n",
    "    elves = read_input()\n",
    "    first_direction = cycle(range(4))\n",
    "\n",
    "    for _ in range(10):\n",
    "        move_elves(elves, first_direction)\n",
    "    \n",
    "    min_x = min(elves, key=lambda x: x[0])[0]\n",
    "    max_x = max(elves, key=lambda x: x[0])[0]\n",
    "    min_y = min(elves, key=lambda x: x[1])[1]\n",
    "    max_y = max(elves, key=lambda x: x[1])[1]\n",
    "    \n",
    "    return sum((x, y) not in elves for y in range(min_y, max_y + 1) for x in range(min_x, max_x + 1))\n",
    "\n",
    "def solve_part_2():\n",
    "    elves = read_input()\n",
    "    first_direction = cycle(range(4))\n",
    "\n",
    "    round = 0\n",
    "    while True:\n",
    "        round += 1\n",
    "        if move_elves(elves, first_direction):\n",
    "            break\n",
    "    \n",
    "    return round\n",
    "\n",
    "directions = [[(-1, -1), (0, -1), (1, -1)], [(1, 1), (0, 1), (-1, 1)], [(-1, 1), (-1, 0), (-1, -1)], [(1, -1), (1, 0), (1, 1)]]\n",
    "omni_elf = [(-1,-1), (0,-1), (1,-1), (1,1), (0,1), (-1,1), (-1,0), (1,0)]\n",
    "\n",
    "print (\"Part 1:\", solve_part_1())\n",
    "print (\"Part 2:\", solve_part_2())"
   ]
  },
  {
   "cell_type": "code",
   "execution_count": null,
   "id": "89a77c33",
   "metadata": {},
   "outputs": [],
   "source": []
  }
 ],
 "metadata": {
  "kernelspec": {
   "display_name": "Python 3 (ipykernel)",
   "language": "python",
   "name": "python3"
  },
  "language_info": {
   "codemirror_mode": {
    "name": "ipython",
    "version": 3
   },
   "file_extension": ".py",
   "mimetype": "text/x-python",
   "name": "python",
   "nbconvert_exporter": "python",
   "pygments_lexer": "ipython3",
   "version": "3.9.7"
  }
 },
 "nbformat": 4,
 "nbformat_minor": 5
}
