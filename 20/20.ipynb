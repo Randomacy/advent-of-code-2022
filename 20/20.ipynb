{
 "cells": [
  {
   "cell_type": "code",
   "execution_count": 1,
   "id": "e08653ee",
   "metadata": {},
   "outputs": [
    {
     "name": "stdout",
     "output_type": "stream",
     "text": [
      "Part 1: 11037\n",
      "Part 2: 3033720253914\n"
     ]
    }
   ],
   "source": [
    "def read_input():\n",
    "    with open(r\"input.txt\") as f:\n",
    "        return list(enumerate(map(int, f.read().splitlines())))\n",
    "\n",
    "def index_of_zero(number_list):\n",
    "    for i in range(len(number_list)):\n",
    "        if number_list[i][1] == 0:\n",
    "            return i\n",
    "\n",
    "def mix(mix_count=1, multiplier=1):\n",
    "    number_list = read_input()\n",
    "    list_size = len(number_list)\n",
    "\n",
    "    number_list = [(i, n * multiplier) for i, n in number_list]\n",
    "\n",
    "    for _ in range(mix_count):\n",
    "        for i in range(list_size):\n",
    "            for j in range(list_size):\n",
    "                if number_list[j][0] == i:\n",
    "                    num = number_list[j]\n",
    "                    number_list.pop(j)\n",
    "                    if num[1] == -j:\n",
    "                        number_list.append(num)\n",
    "                    else:\n",
    "                        number_list.insert((j + num[1]) % (list_size-1), num)\n",
    "                    break\n",
    "\n",
    "    zi = index_of_zero(number_list)\n",
    "    return sum(number_list[(zi + i) % len(number_list)][1] for i in range(1000, 4000, 1000))\n",
    "\n",
    "print(\"Part 1:\", mix())\n",
    "print(\"Part 2:\", mix(10, 811589153))"
   ]
  },
  {
   "cell_type": "code",
   "execution_count": null,
   "id": "05db3591",
   "metadata": {},
   "outputs": [],
   "source": []
  }
 ],
 "metadata": {
  "kernelspec": {
   "display_name": "Python 3 (ipykernel)",
   "language": "python",
   "name": "python3"
  },
  "language_info": {
   "codemirror_mode": {
    "name": "ipython",
    "version": 3
   },
   "file_extension": ".py",
   "mimetype": "text/x-python",
   "name": "python",
   "nbconvert_exporter": "python",
   "pygments_lexer": "ipython3",
   "version": "3.9.7"
  }
 },
 "nbformat": 4,
 "nbformat_minor": 5
}
