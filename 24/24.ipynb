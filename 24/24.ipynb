{
 "cells": [
  {
   "cell_type": "code",
   "execution_count": 1,
   "id": "26fea715",
   "metadata": {},
   "outputs": [
    {
     "name": "stdout",
     "output_type": "stream",
     "text": [
      "264\n",
      "789\n"
     ]
    }
   ],
   "source": [
    "def solve(start, stop, step):\n",
    "    positions = set([start])\n",
    "\n",
    "    while True:\n",
    "        next_positions = set()\n",
    "        for r, c in positions:\n",
    "            for x, y in ((r, c), (r - 1, c), (r + 1, c), (r, c - 1), (r, c + 1)):\n",
    "                if (x, y) == stop:\n",
    "                    return step\n",
    "                # fmt:off\n",
    "                if 0 <= x < height and 0 <= y < width \\\n",
    "                   and grid[x][(y - step) % width] != \">\" \\\n",
    "                   and grid[x][(y + step) % width] != \"<\" \\\n",
    "                   and grid[(x - step) % height][y] != \"v\" \\\n",
    "                   and grid[(x + step) % height][y] != \"^\":\n",
    "                    next_positions.add((x, y))\n",
    "                # fmt:on\n",
    "        positions = next_positions\n",
    "        if not positions:\n",
    "            positions.add(start)\n",
    "        step += 1\n",
    "\n",
    "\n",
    "grid = [row[1:-1] for row in open(\"input.txt\").read().splitlines()[1:-1]]\n",
    "height, width = len(grid), len(grid[0])\n",
    "start, stop = (-1, 0), (height, width - 1)\n",
    "\n",
    "print(s1 := solve(start, stop, 1))\n",
    "print(solve(start, stop, solve(stop, start, s1)))"
   ]
  },
  {
   "cell_type": "code",
   "execution_count": null,
   "id": "1c847350",
   "metadata": {},
   "outputs": [],
   "source": []
  }
 ],
 "metadata": {
  "kernelspec": {
   "display_name": "Python 3 (ipykernel)",
   "language": "python",
   "name": "python3"
  },
  "language_info": {
   "codemirror_mode": {
    "name": "ipython",
    "version": 3
   },
   "file_extension": ".py",
   "mimetype": "text/x-python",
   "name": "python",
   "nbconvert_exporter": "python",
   "pygments_lexer": "ipython3",
   "version": "3.9.7"
  }
 },
 "nbformat": 4,
 "nbformat_minor": 5
}
