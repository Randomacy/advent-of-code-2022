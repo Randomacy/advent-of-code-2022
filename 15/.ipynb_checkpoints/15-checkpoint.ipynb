{
 "cells": [
  {
   "cell_type": "code",
   "execution_count": 16,
   "id": "268a537e",
   "metadata": {},
   "outputs": [
    {
     "ename": "AttributeError",
     "evalue": "'_io.TextIOWrapper' object has no attribute 'readall'",
     "output_type": "error",
     "traceback": [
      "\u001b[0;31m---------------------------------------------------------------------------\u001b[0m",
      "\u001b[0;31mAttributeError\u001b[0m                            Traceback (most recent call last)",
      "Input \u001b[0;32mIn [16]\u001b[0m, in \u001b[0;36m<cell line: 1>\u001b[0;34m()\u001b[0m\n\u001b[1;32m      1\u001b[0m \u001b[38;5;28;01mwith\u001b[39;00m \u001b[38;5;28mopen\u001b[39m(\u001b[38;5;124m\"\u001b[39m\u001b[38;5;124minput.txt\u001b[39m\u001b[38;5;124m\"\u001b[39m) \u001b[38;5;28;01mas\u001b[39;00m f:\n\u001b[0;32m----> 2\u001b[0m     input_data \u001b[38;5;241m=\u001b[39m \u001b[43mf\u001b[49m\u001b[38;5;241;43m.\u001b[39;49m\u001b[43mreadall\u001b[49m()\n",
      "\u001b[0;31mAttributeError\u001b[0m: '_io.TextIOWrapper' object has no attribute 'readall'"
     ]
    }
   ],
   "source": [
    "with open(\"input.txt\") as f:\n",
    "    input_data = f.readall()"
   ]
  },
  {
   "cell_type": "code",
   "execution_count": 17,
   "id": "32adf04a",
   "metadata": {},
   "outputs": [
    {
     "ename": "ValueError",
     "evalue": "not enough values to unpack (expected 4, got 0)",
     "output_type": "error",
     "traceback": [
      "\u001b[0;31m---------------------------------------------------------------------------\u001b[0m",
      "\u001b[0;31mValueError\u001b[0m                                Traceback (most recent call last)",
      "Input \u001b[0;32mIn [17]\u001b[0m, in \u001b[0;36m<cell line: 6>\u001b[0;34m()\u001b[0m\n\u001b[1;32m      3\u001b[0m \u001b[38;5;28;01mdef\u001b[39;00m \u001b[38;5;21mmd\u001b[39m(p, q): \u001b[38;5;28;01mreturn\u001b[39;00m \u001b[38;5;28mabs\u001b[39m(p[\u001b[38;5;241m0\u001b[39m]\u001b[38;5;241m-\u001b[39mq[\u001b[38;5;241m0\u001b[39m])\u001b[38;5;241m+\u001b[39m\u001b[38;5;28mabs\u001b[39m(p[\u001b[38;5;241m1\u001b[39m]\u001b[38;5;241m-\u001b[39mq[\u001b[38;5;241m1\u001b[39m])\n\u001b[1;32m      5\u001b[0m data \u001b[38;5;241m=\u001b[39m [all_numbers(line) \u001b[38;5;28;01mfor\u001b[39;00m line \u001b[38;5;129;01min\u001b[39;00m input_data\u001b[38;5;241m.\u001b[39msplit(\u001b[38;5;124m\"\u001b[39m\u001b[38;5;130;01m\\n\u001b[39;00m\u001b[38;5;124m\"\u001b[39m)]\n\u001b[0;32m----> 6\u001b[0m radius \u001b[38;5;241m=\u001b[39m {(a,b):md((a,b),(c,d)) \u001b[38;5;28;01mfor\u001b[39;00m (a,b,c,d) \u001b[38;5;129;01min\u001b[39;00m data}\n\u001b[1;32m      7\u001b[0m scanners \u001b[38;5;241m=\u001b[39m radius\u001b[38;5;241m.\u001b[39mkeys()\n\u001b[1;32m      9\u001b[0m acoeffs, bcoeffs \u001b[38;5;241m=\u001b[39m \u001b[38;5;28mset\u001b[39m(), \u001b[38;5;28mset\u001b[39m()\n",
      "Input \u001b[0;32mIn [17]\u001b[0m, in \u001b[0;36m<dictcomp>\u001b[0;34m(.0)\u001b[0m\n\u001b[1;32m      3\u001b[0m \u001b[38;5;28;01mdef\u001b[39;00m \u001b[38;5;21mmd\u001b[39m(p, q): \u001b[38;5;28;01mreturn\u001b[39;00m \u001b[38;5;28mabs\u001b[39m(p[\u001b[38;5;241m0\u001b[39m]\u001b[38;5;241m-\u001b[39mq[\u001b[38;5;241m0\u001b[39m])\u001b[38;5;241m+\u001b[39m\u001b[38;5;28mabs\u001b[39m(p[\u001b[38;5;241m1\u001b[39m]\u001b[38;5;241m-\u001b[39mq[\u001b[38;5;241m1\u001b[39m])\n\u001b[1;32m      5\u001b[0m data \u001b[38;5;241m=\u001b[39m [all_numbers(line) \u001b[38;5;28;01mfor\u001b[39;00m line \u001b[38;5;129;01min\u001b[39;00m input_data\u001b[38;5;241m.\u001b[39msplit(\u001b[38;5;124m\"\u001b[39m\u001b[38;5;130;01m\\n\u001b[39;00m\u001b[38;5;124m\"\u001b[39m)]\n\u001b[0;32m----> 6\u001b[0m radius \u001b[38;5;241m=\u001b[39m {(a,b):md((a,b),(c,d)) \u001b[38;5;28;01mfor\u001b[39;00m (a,b,c,d) \u001b[38;5;129;01min\u001b[39;00m data}\n\u001b[1;32m      7\u001b[0m scanners \u001b[38;5;241m=\u001b[39m radius\u001b[38;5;241m.\u001b[39mkeys()\n\u001b[1;32m      9\u001b[0m acoeffs, bcoeffs \u001b[38;5;241m=\u001b[39m \u001b[38;5;28mset\u001b[39m(), \u001b[38;5;28mset\u001b[39m()\n",
      "\u001b[0;31mValueError\u001b[0m: not enough values to unpack (expected 4, got 0)"
     ]
    }
   ],
   "source": [
    "import re\n",
    "def all_numbers(s): return [int(d) for d in re.findall(\"(-?\\d+)\", s)]\n",
    "def md(p, q): return abs(p[0]-q[0])+abs(p[1]-q[1])\n",
    "\n",
    "data = [all_numbers(line) for line in input_data.split(\"\\n\")]\n",
    "radius = {(a,b):md((a,b),(c,d)) for (a,b,c,d) in data}\n",
    "scanners = radius.keys()\n",
    "\n",
    "acoeffs, bcoeffs = set(), set()\n",
    "for ((x,y), r) in radius.items():\n",
    "    acoeffs.add(y-x+r+1)\n",
    "    acoeffs.add(y-x-r-1)\n",
    "    bcoeffs.add(x+y+r+1)\n",
    "    bcoeffs.add(x+y-r-1)\n",
    "\n",
    "bound = 4_000_000\n",
    "for a in acoeffs:\n",
    "    for b in bcoeffs:\n",
    "        p = ((b-a)//2, (a+b)//2)\n",
    "        if all(0<c<bound for c in p):\n",
    "            if all(md(p,t)>radius[t] for t in scanners):\n",
    "                print(4_000_000*p[0]+p[1])"
   ]
  },
  {
   "cell_type": "code",
   "execution_count": null,
   "id": "7a513201",
   "metadata": {},
   "outputs": [],
   "source": []
  }
 ],
 "metadata": {
  "kernelspec": {
   "display_name": "Python 3 (ipykernel)",
   "language": "python",
   "name": "python3"
  },
  "language_info": {
   "codemirror_mode": {
    "name": "ipython",
    "version": 3
   },
   "file_extension": ".py",
   "mimetype": "text/x-python",
   "name": "python",
   "nbconvert_exporter": "python",
   "pygments_lexer": "ipython3",
   "version": "3.9.7"
  }
 },
 "nbformat": 4,
 "nbformat_minor": 5
}
