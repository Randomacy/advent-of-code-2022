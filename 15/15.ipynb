{
 "cells": [
  {
   "cell_type": "code",
   "execution_count": 22,
   "id": "d06e7930",
   "metadata": {},
   "outputs": [
    {
     "name": "stdout",
     "output_type": "stream",
     "text": [
      "5073496\n",
      "13081194638237\n"
     ]
    }
   ],
   "source": [
    "import re\n",
    "\n",
    "ints = lambda s: map(int, re.findall(r'-?\\d+', s))\n",
    "dist = lambda x,y,p,q: abs(x-p) + abs(y-q)\n",
    "data = [(x, y, dist(x,y,p,q)) for x,y,p,q in map(ints, open('input.txt'))]\n",
    "\n",
    "A, B = 2_000_000, 4_000_000\n",
    "\n",
    "print(max(x - abs(A-y) + d for x,y,d in data) \n",
    "    - min(x + abs(A-y) - d for x,y,d in data))\n",
    "\n",
    "f = lambda x,y,d,p,q,r: ((p+q+r+x-y-d)//2, (p+q+r-x+y+d)//2+1)\n",
    "\n",
    "for X, Y in [f(*a,*b) for a in data for b in data]:\n",
    "    if 0<X<B and 0<Y<B and all(dist(X,Y,x,y)>d for x,y,d in data):\n",
    "        print(B*X + Y)"
   ]
  },
  {
   "cell_type": "code",
   "execution_count": null,
   "id": "1e0122da",
   "metadata": {},
   "outputs": [],
   "source": []
  }
 ],
 "metadata": {
  "kernelspec": {
   "display_name": "Python 3 (ipykernel)",
   "language": "python",
   "name": "python3"
  },
  "language_info": {
   "codemirror_mode": {
    "name": "ipython",
    "version": 3
   },
   "file_extension": ".py",
   "mimetype": "text/x-python",
   "name": "python",
   "nbconvert_exporter": "python",
   "pygments_lexer": "ipython3",
   "version": "3.9.7"
  }
 },
 "nbformat": 4,
 "nbformat_minor": 5
}
