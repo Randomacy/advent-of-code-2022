{
 "cells": [
  {
   "cell_type": "code",
   "execution_count": 7,
   "id": "5e553db1",
   "metadata": {},
   "outputs": [
    {
     "data": {
      "text/plain": [
       "['Sabqponm', 'abcryxxl', 'accszExk', 'acctuvwj', 'abdefghi']"
      ]
     },
     "execution_count": 7,
     "metadata": {},
     "output_type": "execute_result"
    }
   ],
   "source": [
    "with open(\"test.txt\") as f:\n",
    "    test_lines = f.readlines()\n",
    "    test_lines = [i.strip() for i in test_lines]\n",
    "test_lines"
   ]
  },
  {
   "cell_type": "code",
   "execution_count": 5,
   "id": "1a964718",
   "metadata": {},
   "outputs": [],
   "source": [
    "def create_graph_from_grid(grid):\n",
    "  # Create a dictionary to store the graph, where each key is a vertex\n",
    "  # and each value is a list of neighboring vertices\n",
    "  graph = {}\n",
    "\n",
    "  # Get the width and height of the grid\n",
    "  height = len(grid)\n",
    "  width = len(grid[0])\n",
    "\n",
    "  # Iterate through the grid, one square at a time\n",
    "  for y in range(height):\n",
    "    for x in range(width):\n",
    "      # Get the current square in the grid\n",
    "      square = grid[y][x]\n",
    "\n",
    "      # Create a vertex for the square, if it doesn't already exist\n",
    "      if square not in graph:\n",
    "        graph[square] = []\n",
    "\n",
    "      # Add edges to the neighboring vertices, if they exist and are not already\n",
    "      # in the graph (to avoid duplicating edges)\n",
    "      if y > 0 and grid[y-1][x] not in graph:\n",
    "        graph[square].append(grid[y-1][x])\n",
    "      if y < height-1 and grid[y+1][x] not in graph:\n",
    "        graph[square].append(grid[y+1][x])\n",
    "      if x > 0 and grid[y][x-1] not in graph:\n",
    "        graph[square].append(grid[y][x-1])\n",
    "      if x < width-1 and grid[y][x+1] not in graph:\n",
    "        graph[square].append(grid[y][x+1])\n",
    "\n",
    "  return graph\n"
   ]
  },
  {
   "cell_type": "code",
   "execution_count": 8,
   "id": "743cf483",
   "metadata": {},
   "outputs": [
    {
     "data": {
      "text/plain": [
       "{'S': ['a', 'a'],\n",
       " 'a': ['b', 'b'],\n",
       " 'b': ['c', 'q', 'c', 'c', 'd'],\n",
       " 'q': ['r', 'p'],\n",
       " 'p': ['y', 'o'],\n",
       " 'o': ['x', 'n'],\n",
       " 'n': ['x', 'm'],\n",
       " 'm': ['l'],\n",
       " 'c': ['r', 's', 'd', 't'],\n",
       " 'r': ['s', 'y'],\n",
       " 'y': ['z', 'x'],\n",
       " 'x': ['E', 'l', 'w', 'k'],\n",
       " 'l': ['k'],\n",
       " 's': ['t', 'z'],\n",
       " 'z': ['u', 'E'],\n",
       " 'E': ['v'],\n",
       " 'k': ['j'],\n",
       " 't': ['e', 'u'],\n",
       " 'u': ['f', 'v'],\n",
       " 'v': ['g', 'w'],\n",
       " 'w': ['h', 'j'],\n",
       " 'j': ['i'],\n",
       " 'd': ['e'],\n",
       " 'e': ['f'],\n",
       " 'f': ['g'],\n",
       " 'g': ['h'],\n",
       " 'h': ['i'],\n",
       " 'i': []}"
      ]
     },
     "execution_count": 8,
     "metadata": {},
     "output_type": "execute_result"
    }
   ],
   "source": [
    "create_graph_from_grid(test_lines)"
   ]
  },
  {
   "cell_type": "code",
   "execution_count": 4,
   "id": "e9d5c3a5",
   "metadata": {},
   "outputs": [],
   "source": [
    "from collections import deque\n",
    "\n",
    "def bfs(graph, start, end):\n",
    "    # Create a queue to store the vertices we need to visit\n",
    "    queue = deque([start])\n",
    "\n",
    "    # Create a set to store the vertices we have already visited\n",
    "    visited = set()\n",
    "\n",
    "    # Create a dictionary to store the previous vertex for each vertex in the path\n",
    "    previous = {start: None}\n",
    "\n",
    "    # Keep track of the current vertex as we iterate through the queue\n",
    "    current = None\n",
    "\n",
    "    # While there are vertices in the queue:\n",
    "    while queue:\n",
    "        # Get the next vertex from the queue\n",
    "        current = queue.popleft()\n",
    "\n",
    "    # If we have reached the end vertex, we can construct the path and return it\n",
    "        if current == end:\n",
    "            path = []\n",
    "            while current is not None:\n",
    "                path.append(current)\n",
    "                current = previous[current]\n",
    "            return list(reversed(path))\n",
    "\n",
    "    # If the current vertex has not been visited yet:\n",
    "        if current not in visited:\n",
    "      # Mark the current vertex as visited\n",
    "          visited.add(current)\n",
    "\n",
    "      # Add the current vertex's neighbors to the queue\n",
    "        for neighbor in graph[current]:\n",
    "            queue.append(neighbor)\n",
    "            previous[neighbor] = current\n",
    "\n",
    "    # If we have exhausted the queue without finding the end vertex,\n",
    "    # we can return an empty path to indicate that no path was found\n",
    "    return []"
   ]
  },
  {
   "cell_type": "code",
   "execution_count": 10,
   "id": "13f05ced",
   "metadata": {},
   "outputs": [
    {
     "data": {
      "text/plain": [
       "['S', 'a', 'b', 'c', 'r', 'y', 'x', 'E']"
      ]
     },
     "execution_count": 10,
     "metadata": {},
     "output_type": "execute_result"
    }
   ],
   "source": [
    "bfs(create_graph_from_grid(test_lines), \"S\", \"E\")"
   ]
  },
  {
   "cell_type": "code",
   "execution_count": 2,
   "id": "4168e4ca",
   "metadata": {},
   "outputs": [],
   "source": [
    "def solve(grid):\n",
    "    # Create a graph from the grid, where each square in the grid is a vertex\n",
    "    # and each vertex has edges to its neighboring vertices (up, down, left, right)\n",
    "    graph = create_graph_from_grid(grid)\n",
    "\n",
    "    # Run BFS on the graph, starting at the vertex representing your current position\n",
    "    # and ending at the vertex representing the location that should get the best signal\n",
    "    path = bfs(graph, start_vertex, end_vertex)\n",
    "\n",
    "    # Return the number of steps in the path, which is the length of the path minus one\n",
    "    # (since we don't count the starting vertex as a step)\n",
    "    return len(path) - 1"
   ]
  },
  {
   "cell_type": "code",
   "execution_count": 11,
   "id": "2356befd",
   "metadata": {},
   "outputs": [
    {
     "ename": "NameError",
     "evalue": "name 'start_vertex' is not defined",
     "output_type": "error",
     "traceback": [
      "\u001b[0;31m---------------------------------------------------------------------------\u001b[0m",
      "\u001b[0;31mNameError\u001b[0m                                 Traceback (most recent call last)",
      "Input \u001b[0;32mIn [11]\u001b[0m, in \u001b[0;36m<cell line: 1>\u001b[0;34m()\u001b[0m\n\u001b[0;32m----> 1\u001b[0m \u001b[43msolve\u001b[49m\u001b[43m(\u001b[49m\u001b[43mtest_lines\u001b[49m\u001b[43m)\u001b[49m\n",
      "Input \u001b[0;32mIn [2]\u001b[0m, in \u001b[0;36msolve\u001b[0;34m(grid)\u001b[0m\n\u001b[1;32m      4\u001b[0m graph \u001b[38;5;241m=\u001b[39m create_graph_from_grid(grid)\n\u001b[1;32m      6\u001b[0m \u001b[38;5;66;03m# Run BFS on the graph, starting at the vertex representing your current position\u001b[39;00m\n\u001b[1;32m      7\u001b[0m \u001b[38;5;66;03m# and ending at the vertex representing the location that should get the best signal\u001b[39;00m\n\u001b[0;32m----> 8\u001b[0m path \u001b[38;5;241m=\u001b[39m bfs(graph, \u001b[43mstart_vertex\u001b[49m, end_vertex)\n\u001b[1;32m     10\u001b[0m \u001b[38;5;66;03m# Return the number of steps in the path, which is the length of the path minus one\u001b[39;00m\n\u001b[1;32m     11\u001b[0m \u001b[38;5;66;03m# (since we don't count the starting vertex as a step)\u001b[39;00m\n\u001b[1;32m     12\u001b[0m \u001b[38;5;28;01mreturn\u001b[39;00m \u001b[38;5;28mlen\u001b[39m(path) \u001b[38;5;241m-\u001b[39m \u001b[38;5;241m1\u001b[39m\n",
      "\u001b[0;31mNameError\u001b[0m: name 'start_vertex' is not defined"
     ]
    }
   ],
   "source": [
    "solve(test_lines)"
   ]
  },
  {
   "cell_type": "code",
   "execution_count": 21,
   "id": "1cd636d7",
   "metadata": {},
   "outputs": [
    {
     "name": "stdout",
     "output_type": "stream",
     "text": [
      "Using file test.txt\n",
      "Part one: 31\n"
     ]
    }
   ],
   "source": [
    "#!/bin/python3\n",
    "\n",
    "import sys\n",
    "\n",
    "file = \"test.txt\"\n",
    "print(\"Using file {}\".format(file))\n",
    "\n",
    "\n",
    "def bfs(maze, start, end):\n",
    "    queue = [(start, 0)]\n",
    "    visited = set()\n",
    "    best = 100000\n",
    "\n",
    "    while len(queue) > 0:\n",
    "        (curr, score) = queue.pop(0)\n",
    "\n",
    "        if curr == end:\n",
    "            if score < best:\n",
    "                best = score\n",
    "            continue\n",
    "\n",
    "        if curr in visited:\n",
    "            continue\n",
    "\n",
    "        visited.add(curr)\n",
    "\n",
    "        up = (curr[0], curr[1] - 1)\n",
    "        down = (curr[0], curr[1] + 1)\n",
    "        left = (curr[0] - 1, curr[1])\n",
    "        right = (curr[0] + 1, curr[1])\n",
    "\n",
    "        for dir in [up, down, left, right]:\n",
    "            if dir[0] >= 0 and dir[0] < len(maze[0]) and dir[1] >= 0 and dir[1] < len(maze):\n",
    "                current_height = maze[curr[1]][curr[0]]\n",
    "\n",
    "                if current_height == \"S\":\n",
    "                    current_height = \"a\"\n",
    "\n",
    "                new_height = maze[dir[1]][dir[0]]\n",
    "\n",
    "                if new_height == \"E\":\n",
    "                    new_height = \"z\"\n",
    "\n",
    "                if ord(current_height) + 1 >= ord(new_height):\n",
    "                    queue.append((dir, score + 1))\n",
    "\n",
    "    return best\n",
    "\n",
    "\n",
    "with open(file) as f:\n",
    "    maze = [[c for c in line.strip()] for line in f.readlines()]\n",
    "\n",
    "    start = (0, 0)\n",
    "    end = (0, 0)\n",
    "    a_positions = []\n",
    "    for (y, r) in enumerate(maze):\n",
    "        for (x, cell) in enumerate(r):\n",
    "            if cell == \"S\":\n",
    "                start = (x, y)\n",
    "            elif cell == \"E\":\n",
    "                end = (x, y)\n",
    "            elif cell == \"a\":\n",
    "                a_positions.append((x, y))\n",
    "\n",
    "    print(\"Part one: {}\".format(bfs(maze, start, end)))"
   ]
  },
  {
   "cell_type": "code",
   "execution_count": 22,
   "id": "d948989b",
   "metadata": {},
   "outputs": [
    {
     "data": {
      "text/plain": [
       "[['S', 'a', 'b', 'q', 'p', 'o', 'n', 'm'],\n",
       " ['a', 'b', 'c', 'r', 'y', 'x', 'x', 'l'],\n",
       " ['a', 'c', 'c', 's', 'z', 'E', 'x', 'k'],\n",
       " ['a', 'c', 'c', 't', 'u', 'v', 'w', 'j'],\n",
       " ['a', 'b', 'd', 'e', 'f', 'g', 'h', 'i']]"
      ]
     },
     "execution_count": 22,
     "metadata": {},
     "output_type": "execute_result"
    }
   ],
   "source": [
    "maze"
   ]
  },
  {
   "cell_type": "code",
   "execution_count": 23,
   "id": "3becc057",
   "metadata": {},
   "outputs": [
    {
     "data": {
      "text/plain": [
       "[(1, 0), (0, 1), (0, 2), (0, 3), (0, 4)]"
      ]
     },
     "execution_count": 23,
     "metadata": {},
     "output_type": "execute_result"
    }
   ],
   "source": [
    "a_positions"
   ]
  },
  {
   "cell_type": "code",
   "execution_count": 24,
   "id": "52eb3266",
   "metadata": {},
   "outputs": [
    {
     "data": {
      "text/plain": [
       "(0, 0)"
      ]
     },
     "execution_count": 24,
     "metadata": {},
     "output_type": "execute_result"
    }
   ],
   "source": [
    "start"
   ]
  },
  {
   "cell_type": "code",
   "execution_count": 25,
   "id": "967b088b",
   "metadata": {},
   "outputs": [
    {
     "data": {
      "text/plain": [
       "(5, 2)"
      ]
     },
     "execution_count": 25,
     "metadata": {},
     "output_type": "execute_result"
    }
   ],
   "source": [
    "end"
   ]
  },
  {
   "cell_type": "code",
   "execution_count": 26,
   "id": "4bedb732",
   "metadata": {},
   "outputs": [
    {
     "name": "stdout",
     "output_type": "stream",
     "text": [
      "Using file input.txt\n",
      "Part one: 528\n",
      "Part two: 522\n"
     ]
    }
   ],
   "source": [
    "#!/bin/python3\n",
    "\n",
    "import sys\n",
    "\n",
    "file = \"input.txt\"\n",
    "print(\"Using file {}\".format(file))\n",
    "\n",
    "\n",
    "def bfs(maze, start, end):\n",
    "    queue = [(start, 0)]\n",
    "    visited = set()\n",
    "    best = 100000\n",
    "\n",
    "    while len(queue) > 0:\n",
    "        (curr, score) = queue.pop(0)\n",
    "\n",
    "        if curr == end:\n",
    "            if score < best:\n",
    "                best = score\n",
    "            continue\n",
    "\n",
    "        if curr in visited:\n",
    "            continue\n",
    "\n",
    "        visited.add(curr)\n",
    "\n",
    "        up = (curr[0], curr[1] - 1)\n",
    "        down = (curr[0], curr[1] + 1)\n",
    "        left = (curr[0] - 1, curr[1])\n",
    "        right = (curr[0] + 1, curr[1])\n",
    "\n",
    "        for dir in [up, down, left, right]:\n",
    "            if dir[0] >= 0 and dir[0] < len(maze[0]) and dir[1] >= 0 and dir[1] < len(maze):\n",
    "                current_height = maze[curr[1]][curr[0]]\n",
    "\n",
    "                if current_height == \"S\":\n",
    "                    current_height = \"a\"\n",
    "\n",
    "                new_height = maze[dir[1]][dir[0]]\n",
    "\n",
    "                if new_height == \"E\":\n",
    "                    new_height = \"z\"\n",
    "\n",
    "                if ord(current_height) + 1 >= ord(new_height):\n",
    "                    queue.append((dir, score + 1))\n",
    "\n",
    "    return best\n",
    "\n",
    "\n",
    "with open(file) as f:\n",
    "    maze = [[c for c in line.strip()] for line in f.readlines()]\n",
    "\n",
    "    start = (0, 0)\n",
    "    end = (0, 0)\n",
    "    a_positions = []\n",
    "    for (y, r) in enumerate(maze):\n",
    "        for (x, cell) in enumerate(r):\n",
    "            if cell == \"S\":\n",
    "                start = (x, y)\n",
    "            elif cell == \"E\":\n",
    "                end = (x, y)\n",
    "            elif cell == \"a\":\n",
    "                a_positions.append((x, y))\n",
    "\n",
    "    print(\"Part one: {}\".format(bfs(maze, start, end)))\n",
    "    print(\"Part two: {}\".format(min([bfs(maze, a, end) for a in a_positions])))\n"
   ]
  },
  {
   "cell_type": "code",
   "execution_count": null,
   "id": "086ba1e6",
   "metadata": {},
   "outputs": [],
   "source": []
  }
 ],
 "metadata": {
  "kernelspec": {
   "display_name": "Python 3 (ipykernel)",
   "language": "python",
   "name": "python3"
  },
  "language_info": {
   "codemirror_mode": {
    "name": "ipython",
    "version": 3
   },
   "file_extension": ".py",
   "mimetype": "text/x-python",
   "name": "python",
   "nbconvert_exporter": "python",
   "pygments_lexer": "ipython3",
   "version": "3.9.7"
  }
 },
 "nbformat": 4,
 "nbformat_minor": 5
}
