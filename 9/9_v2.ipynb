{
 "cells": [
  {
   "cell_type": "code",
   "execution_count": 1,
   "id": "6fb98ccb",
   "metadata": {},
   "outputs": [
    {
     "name": "stdout",
     "output_type": "stream",
     "text": [
      "5779\n"
     ]
    }
   ],
   "source": [
    "from math import dist\n",
    "\n",
    "def update_heads(last_heads, step):\n",
    "    d = {'U': (0, 1), 'D': (0, -1), 'L': (-1, 0), 'R': (1, 0)}\n",
    "    heads_x = last_heads[0]\n",
    "    heads_y = last_heads[1]\n",
    "    heads_x += d[step[0]][0]\n",
    "    heads_y += d[step[0]][1]\n",
    "    return ((heads_x, heads_y))\n",
    "\n",
    "def update_tails(last_heads, last_tails):\n",
    "    Hx = last_heads[0]\n",
    "    Hy = last_heads[1]\n",
    "    Tx = last_tails[0]\n",
    "    Ty = last_tails[1]\n",
    "    if abs(Ty - Hy) > 1 and Tx == Hx:\n",
    "        Ty += [-1, 1][Ty < Hy]\n",
    "    elif abs(Tx - Hx) > 1 and Ty == Hy:\n",
    "        Tx += [-1, 1][Tx < Hx]\n",
    "    elif dist((Hx,Hy),(Tx,Ty)) > 2:\n",
    "        Tx += [-1, 1][Tx < Hx]\n",
    "        Ty += [-1, 1][Ty < Hy]\n",
    "    A = (Tx, Ty)\n",
    "    return A\n",
    "\n",
    "with open('input.txt') as file:\n",
    "    lines = file.readlines()\n",
    "lines = [[x,int(y)] for [x,y] in [_.rstrip().split(\" \") for _ in lines]]\n",
    "last_heads = [0, 0]\n",
    "last_tails = (0,0)\n",
    "visited = [last_tails]\n",
    "for item in lines:\n",
    "    for i in range(item[1]):\n",
    "        last_heads = update_heads(last_heads, item)\n",
    "        last_tails = update_tails(last_heads, last_tails)\n",
    "        visited.append(last_tails)\n",
    "print(len(set(visited)))"
   ]
  },
  {
   "cell_type": "code",
   "execution_count": 3,
   "id": "365a7b1b",
   "metadata": {},
   "outputs": [
    {
     "name": "stdout",
     "output_type": "stream",
     "text": [
      "5779\n"
     ]
    }
   ],
   "source": [
    "data = open(\"input.txt\").read().strip().split(\"\\n\")\n",
    "\n",
    "rope = [0 + 0j] * 2  # * 10 for part 2\n",
    "moves = {\"L\": -1j, \"R\": 1j, \"U\": 1, \"D\": -1}\n",
    "hist = set(rope)\n",
    "\n",
    "for line in data:\n",
    "    m, n = line[0], int(line[2:])\n",
    "    for _ in range(n):\n",
    "        rope[0] += moves[m]\n",
    "        for i in range(1, len(rope)):\n",
    "            if abs((d := rope[i - 1] - rope[i])) >= 2:\n",
    "                move = int(d.real / 2) + 1j * int(d.imag / 2)\n",
    "                rope[i] = rope[i - 1] - move\n",
    "        hist.add(rope[-1])\n",
    "\n",
    "print(len(hist))"
   ]
  },
  {
   "cell_type": "code",
   "execution_count": null,
   "id": "8ac04827",
   "metadata": {},
   "outputs": [],
   "source": []
  }
 ],
 "metadata": {
  "kernelspec": {
   "display_name": "Python 3 (ipykernel)",
   "language": "python",
   "name": "python3"
  },
  "language_info": {
   "codemirror_mode": {
    "name": "ipython",
    "version": 3
   },
   "file_extension": ".py",
   "mimetype": "text/x-python",
   "name": "python",
   "nbconvert_exporter": "python",
   "pygments_lexer": "ipython3",
   "version": "3.9.7"
  }
 },
 "nbformat": 4,
 "nbformat_minor": 5
}
