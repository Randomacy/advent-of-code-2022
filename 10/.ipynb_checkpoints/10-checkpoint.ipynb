{
 "cells": [
  {
   "cell_type": "code",
   "execution_count": 62,
   "id": "1152c47f",
   "metadata": {},
   "outputs": [],
   "source": [
    "with open(\"example.txt\") as f:\n",
    "    example_lines = f.readlines()\n",
    "    example_lines = [i.strip() for i in example_lines]\n",
    "\n",
    "with open(\"test.txt\") as f:\n",
    "    test_lines = f.readlines()\n",
    "    test_lines = [i.strip() for i in test_lines]\n",
    "    \n",
    "with open(\"input.txt\") as f:\n",
    "    lines = f.readlines()\n",
    "    lines = [i.strip() for i in lines]    "
   ]
  },
  {
   "cell_type": "code",
   "execution_count": 63,
   "id": "182aaddb",
   "metadata": {},
   "outputs": [
    {
     "data": {
      "text/plain": [
       "['noop', 'addx 3', 'addx -5']"
      ]
     },
     "execution_count": 63,
     "metadata": {},
     "output_type": "execute_result"
    }
   ],
   "source": [
    "example_lines"
   ]
  },
  {
   "cell_type": "code",
   "execution_count": 87,
   "id": "ed78cdc0",
   "metadata": {},
   "outputs": [],
   "source": [
    "X = 1\n",
    "cycle_dict = {}\n",
    "current_cycle = 1\n",
    "\n",
    "for instruction in example_lines:\n",
    "    if 'noop' in instruction:\n",
    "        cycle_dict[current_cycle] = X\n",
    "        current_cycle += 1\n",
    "        \n",
    "    else:\n",
    "        value = int(instruction.split(\" \")[-1])        \n",
    "        cycle_dict[current_cycle] = X\n",
    "        current_cycle += 1\n",
    "        cycle_dict[current_cycle] = X\n",
    "        current_cycle += 1\n",
    "        X += value\n",
    "        cycle_dict[current_cycle] = X"
   ]
  },
  {
   "cell_type": "code",
   "execution_count": 88,
   "id": "eaef64c2",
   "metadata": {},
   "outputs": [
    {
     "data": {
      "text/plain": [
       "{1: 1, 2: 1, 3: 1, 4: 4, 5: 4, 6: -1}"
      ]
     },
     "execution_count": 88,
     "metadata": {},
     "output_type": "execute_result"
    }
   ],
   "source": [
    "# expect\n",
    "# {1: 1, 2: 1, 3: 1, 4: 4, 5: 4, 6: -1}\n",
    "cycle_dict"
   ]
  },
  {
   "cell_type": "code",
   "execution_count": 91,
   "id": "8cebd760",
   "metadata": {},
   "outputs": [],
   "source": [
    "X = 1\n",
    "cycle_dict = {}\n",
    "current_cycle = 1\n",
    "\n",
    "for instruction in test_lines:\n",
    "    if 'noop' in instruction:\n",
    "        cycle_dict[current_cycle] = X\n",
    "        current_cycle += 1\n",
    "        \n",
    "    else:\n",
    "        value = int(instruction.split(\" \")[-1])        \n",
    "        cycle_dict[current_cycle] = X\n",
    "        current_cycle += 1\n",
    "        cycle_dict[current_cycle] = X\n",
    "        current_cycle += 1\n",
    "        X += value\n",
    "        cycle_dict[current_cycle] = X"
   ]
  },
  {
   "cell_type": "code",
   "execution_count": 92,
   "id": "ec3e6fbb",
   "metadata": {},
   "outputs": [
    {
     "name": "stdout",
     "output_type": "stream",
     "text": [
      "420 20 21\n",
      "1140 60 19\n",
      "1800 100 18\n",
      "2940 140 21\n",
      "2880 180 16\n",
      "3960 220 18\n"
     ]
    }
   ],
   "source": [
    "for i in range(20, len(cycle_dict) + 1, 40):\n",
    "    print(i * cycle_dict[i], i, cycle_dict[i])"
   ]
  },
  {
   "cell_type": "code",
   "execution_count": 93,
   "id": "5ef35a8c",
   "metadata": {},
   "outputs": [],
   "source": [
    "X = 1\n",
    "cycle_dict = {}\n",
    "current_cycle = 1\n",
    "\n",
    "for instruction in lines:\n",
    "    if 'noop' in instruction:\n",
    "        cycle_dict[current_cycle] = X\n",
    "        current_cycle += 1\n",
    "        \n",
    "    else:\n",
    "        value = int(instruction.split(\" \")[-1])        \n",
    "        cycle_dict[current_cycle] = X\n",
    "        current_cycle += 1\n",
    "        cycle_dict[current_cycle] = X\n",
    "        current_cycle += 1\n",
    "        X += value\n",
    "        cycle_dict[current_cycle] = X"
   ]
  },
  {
   "cell_type": "code",
   "execution_count": 94,
   "id": "c42e9c3c",
   "metadata": {},
   "outputs": [
    {
     "name": "stdout",
     "output_type": "stream",
     "text": [
      "340 20 17\n",
      "1860 60 31\n",
      "2100 100 21\n",
      "2240 140 16\n",
      "3780 180 21\n",
      "3740 220 17\n"
     ]
    }
   ],
   "source": [
    "for i in range(20, len(cycle_dict) + 1, 40):\n",
    "    print(i * cycle_dict[i], i, cycle_dict[i])"
   ]
  },
  {
   "cell_type": "code",
   "execution_count": 95,
   "id": "6d112cab",
   "metadata": {},
   "outputs": [],
   "source": [
    "signal_strength = []\n",
    "\n",
    "for i in range(20, len(cycle_dict) + 1, 40):\n",
    "    signal_strength.append(cycle_dict[i] * i)"
   ]
  },
  {
   "cell_type": "code",
   "execution_count": 96,
   "id": "61ed660d",
   "metadata": {},
   "outputs": [
    {
     "data": {
      "text/plain": [
       "14060"
      ]
     },
     "execution_count": 96,
     "metadata": {},
     "output_type": "execute_result"
    }
   ],
   "source": [
    "sum(signal_strength)"
   ]
  },
  {
   "cell_type": "code",
   "execution_count": 98,
   "id": "a4d2b16f",
   "metadata": {},
   "outputs": [
    {
     "data": {
      "text/plain": [
       "{1: 1,\n",
       " 2: 1,\n",
       " 3: 1,\n",
       " 4: 1,\n",
       " 5: 1,\n",
       " 6: 7,\n",
       " 7: 7,\n",
       " 8: 6,\n",
       " 9: 6,\n",
       " 10: 11,\n",
       " 11: 11,\n",
       " 12: 11,\n",
       " 13: 11,\n",
       " 14: 11,\n",
       " 15: 16,\n",
       " 16: 16,\n",
       " 17: 8,\n",
       " 18: 8,\n",
       " 19: 17,\n",
       " 20: 17,\n",
       " 21: 20,\n",
       " 22: 20,\n",
       " 23: 22,\n",
       " 24: 22,\n",
       " 25: 26,\n",
       " 26: 26,\n",
       " 27: 29,\n",
       " 28: 29,\n",
       " 29: 29,\n",
       " 30: 31,\n",
       " 31: 31,\n",
       " 32: 31,\n",
       " 33: 32,\n",
       " 34: 32,\n",
       " 35: 38,\n",
       " 36: 38,\n",
       " 37: 38,\n",
       " 38: 38,\n",
       " 39: 38,\n",
       " 40: -1,\n",
       " 41: -1,\n",
       " 42: -1,\n",
       " 43: 4,\n",
       " 44: 4,\n",
       " 45: 6,\n",
       " 46: 6,\n",
       " 47: 4,\n",
       " 48: 4,\n",
       " 49: 7,\n",
       " 50: 7,\n",
       " 51: 9,\n",
       " 52: 9,\n",
       " 53: 14,\n",
       " 54: 14,\n",
       " 55: 16,\n",
       " 56: 16,\n",
       " 57: 18,\n",
       " 58: 18,\n",
       " 59: 31,\n",
       " 60: 31,\n",
       " 61: 19,\n",
       " 62: 19,\n",
       " 63: 19,\n",
       " 64: 26,\n",
       " 65: 26,\n",
       " 66: 26,\n",
       " 67: 28,\n",
       " 68: 28,\n",
       " 69: 31,\n",
       " 70: 31,\n",
       " 71: 31,\n",
       " 72: 6,\n",
       " 73: 6,\n",
       " 74: 36,\n",
       " 75: 36,\n",
       " 76: 26,\n",
       " 77: 26,\n",
       " 78: 39,\n",
       " 79: 39,\n",
       " 80: -1,\n",
       " 81: -1,\n",
       " 82: -1,\n",
       " 83: 4,\n",
       " 84: 4,\n",
       " 85: 6,\n",
       " 86: 6,\n",
       " 87: 9,\n",
       " 88: 9,\n",
       " 89: 9,\n",
       " 90: 11,\n",
       " 91: 11,\n",
       " 92: 14,\n",
       " 93: 14,\n",
       " 94: 12,\n",
       " 95: 12,\n",
       " 96: 15,\n",
       " 97: 15,\n",
       " 98: 14,\n",
       " 99: 14,\n",
       " 100: 21,\n",
       " 101: 21,\n",
       " 102: 21,\n",
       " 103: 21,\n",
       " 104: 26,\n",
       " 105: 26,\n",
       " 106: 25,\n",
       " 107: 25,\n",
       " 108: 31,\n",
       " 109: 31,\n",
       " 110: 31,\n",
       " 111: 31,\n",
       " 112: 31,\n",
       " 113: 31,\n",
       " 114: 40,\n",
       " 115: 40,\n",
       " 116: 40,\n",
       " 117: 39,\n",
       " 118: 39,\n",
       " 119: 39,\n",
       " 120: 0,\n",
       " 121: 0,\n",
       " 122: 2,\n",
       " 123: 2,\n",
       " 124: 35,\n",
       " 125: 35,\n",
       " 126: 6,\n",
       " 127: 6,\n",
       " 128: 7,\n",
       " 129: 7,\n",
       " 130: 7,\n",
       " 131: 11,\n",
       " 132: 11,\n",
       " 133: 11,\n",
       " 134: 11,\n",
       " 135: 11,\n",
       " 136: 14,\n",
       " 137: 14,\n",
       " 138: 16,\n",
       " 139: 16,\n",
       " 140: 16,\n",
       " 141: 19,\n",
       " 142: 19,\n",
       " 143: 19,\n",
       " 144: 19,\n",
       " 145: 26,\n",
       " 146: 26,\n",
       " 147: 28,\n",
       " 148: 28,\n",
       " 149: 31,\n",
       " 150: 31,\n",
       " 151: 29,\n",
       " 152: 29,\n",
       " 153: 29,\n",
       " 154: -1,\n",
       " 155: -1,\n",
       " 156: -1,\n",
       " 157: 39,\n",
       " 158: 39,\n",
       " 159: 37,\n",
       " 160: 37,\n",
       " 161: -1,\n",
       " 162: -1,\n",
       " 163: -1,\n",
       " 164: -1,\n",
       " 165: -1,\n",
       " 166: 4,\n",
       " 167: 4,\n",
       " 168: 9,\n",
       " 169: 9,\n",
       " 170: 11,\n",
       " 171: 11,\n",
       " 172: 2,\n",
       " 173: 2,\n",
       " 174: 7,\n",
       " 175: 7,\n",
       " 176: 14,\n",
       " 177: 14,\n",
       " 178: 16,\n",
       " 179: 16,\n",
       " 180: 21,\n",
       " 181: 21,\n",
       " 182: 3,\n",
       " 183: 3,\n",
       " 184: 31,\n",
       " 185: 31,\n",
       " 186: 24,\n",
       " 187: 24,\n",
       " 188: 26,\n",
       " 189: 26,\n",
       " 190: 31,\n",
       " 191: 31,\n",
       " 192: 3,\n",
       " 193: 3,\n",
       " 194: 37,\n",
       " 195: 37,\n",
       " 196: 34,\n",
       " 197: 34,\n",
       " 198: 34,\n",
       " 199: 37,\n",
       " 200: 37,\n",
       " 201: -1,\n",
       " 202: -1,\n",
       " 203: 9,\n",
       " 204: 9,\n",
       " 205: 6,\n",
       " 206: 6,\n",
       " 207: 35,\n",
       " 208: 35,\n",
       " 209: 7,\n",
       " 210: 7,\n",
       " 211: 9,\n",
       " 212: 9,\n",
       " 213: 9,\n",
       " 214: 9,\n",
       " 215: 9,\n",
       " 216: 14,\n",
       " 217: 14,\n",
       " 218: 14,\n",
       " 219: 17,\n",
       " 220: 17,\n",
       " 221: 19,\n",
       " 222: 19,\n",
       " 223: 26,\n",
       " 224: 26,\n",
       " 225: 26,\n",
       " 226: 24,\n",
       " 227: 24,\n",
       " 228: 29,\n",
       " 229: 29,\n",
       " 230: 31,\n",
       " 231: 31,\n",
       " 232: 31,\n",
       " 233: 32,\n",
       " 234: 32,\n",
       " 235: 37,\n",
       " 236: 37,\n",
       " 237: 37,\n",
       " 238: 37,\n",
       " 239: 12,\n",
       " 240: 12}"
      ]
     },
     "execution_count": 98,
     "metadata": {},
     "output_type": "execute_result"
    }
   ],
   "source": [
    "current_crt = []\n",
    "\n",
    "for "
   ]
  },
  {
   "cell_type": "code",
   "execution_count": null,
   "id": "d676b49e",
   "metadata": {},
   "outputs": [],
   "source": []
  }
 ],
 "metadata": {
  "kernelspec": {
   "display_name": "Python 3 (ipykernel)",
   "language": "python",
   "name": "python3"
  },
  "language_info": {
   "codemirror_mode": {
    "name": "ipython",
    "version": 3
   },
   "file_extension": ".py",
   "mimetype": "text/x-python",
   "name": "python",
   "nbconvert_exporter": "python",
   "pygments_lexer": "ipython3",
   "version": "3.9.7"
  }
 },
 "nbformat": 4,
 "nbformat_minor": 5
}
