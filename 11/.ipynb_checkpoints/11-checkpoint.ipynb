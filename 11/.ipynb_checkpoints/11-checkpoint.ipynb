{
 "cells": [
  {
   "cell_type": "code",
   "execution_count": 11,
   "id": "bca062f8",
   "metadata": {},
   "outputs": [],
   "source": [
    "with open(\"test.txt\") as f:\n",
    "    test_lines = f.readlines()"
   ]
  },
  {
   "cell_type": "code",
   "execution_count": 12,
   "id": "1a3f0061",
   "metadata": {},
   "outputs": [
    {
     "data": {
      "text/plain": [
       "['Monkey 0:\\n',\n",
       " '  Starting items: 79, 98\\n',\n",
       " '  Operation: new = old * 19\\n',\n",
       " '  Test: divisible by 23\\n',\n",
       " '    If true: throw to monkey 2\\n',\n",
       " '    If false: throw to monkey 3\\n',\n",
       " '\\n',\n",
       " 'Monkey 1:\\n',\n",
       " '  Starting items: 54, 65, 75, 74\\n',\n",
       " '  Operation: new = old + 6\\n',\n",
       " '  Test: divisible by 19\\n',\n",
       " '    If true: throw to monkey 2\\n',\n",
       " '    If false: throw to monkey 0\\n',\n",
       " '\\n',\n",
       " 'Monkey 2:\\n',\n",
       " '  Starting items: 79, 60, 97\\n',\n",
       " '  Operation: new = old * old\\n',\n",
       " '  Test: divisible by 13\\n',\n",
       " '    If true: throw to monkey 1\\n',\n",
       " '    If false: throw to monkey 3\\n',\n",
       " '\\n',\n",
       " 'Monkey 3:\\n',\n",
       " '  Starting items: 74\\n',\n",
       " '  Operation: new = old + 3\\n',\n",
       " '  Test: divisible by 17\\n',\n",
       " '    If true: throw to monkey 0\\n',\n",
       " '    If false: throw to monkey 1']"
      ]
     },
     "execution_count": 12,
     "metadata": {},
     "output_type": "execute_result"
    }
   ],
   "source": [
    "test_lines"
   ]
  },
  {
   "cell_type": "code",
   "execution_count": 15,
   "id": "790a0221",
   "metadata": {},
   "outputs": [],
   "source": [
    "def input_processor(lines):\n",
    "    for row in range(len(lines)):\n",
    "        if row % 6 == 0 and row != 0:\n",
    "            pass\n",
    "        else:\n",
    "            print(lines[row])"
   ]
  },
  {
   "cell_type": "code",
   "execution_count": 34,
   "id": "71919dfe",
   "metadata": {},
   "outputs": [
    {
     "data": {
      "text/plain": [
       "[['Monkey 0:\\n',\n",
       "  '  Starting items: 79, 98\\n',\n",
       "  '  Operation: new = old * 19\\n',\n",
       "  '  Test: divisible by 23\\n',\n",
       "  '    If true: throw to monkey 2\\n',\n",
       "  '    If false: throw to monkey 3\\n',\n",
       "  '\\n'],\n",
       " ['Monkey 1:\\n',\n",
       "  '  Starting items: 54, 65, 75, 74\\n',\n",
       "  '  Operation: new = old + 6\\n',\n",
       "  '  Test: divisible by 19\\n',\n",
       "  '    If true: throw to monkey 2\\n',\n",
       "  '    If false: throw to monkey 0\\n',\n",
       "  '\\n'],\n",
       " ['Monkey 2:\\n',\n",
       "  '  Starting items: 79, 60, 97\\n',\n",
       "  '  Operation: new = old * old\\n',\n",
       "  '  Test: divisible by 13\\n',\n",
       "  '    If true: throw to monkey 1\\n',\n",
       "  '    If false: throw to monkey 3\\n',\n",
       "  '\\n'],\n",
       " ['Monkey 3:\\n',\n",
       "  '  Starting items: 74\\n',\n",
       "  '  Operation: new = old + 3\\n',\n",
       "  '  Test: divisible by 17\\n',\n",
       "  '    If true: throw to monkey 0\\n',\n",
       "  '    If false: throw to monkey 1',\n",
       "  '\\n']]"
      ]
     },
     "execution_count": 34,
     "metadata": {},
     "output_type": "execute_result"
    }
   ],
   "source": [
    "n = 7\n",
    "test_parsed = [test_lines[i:i+n] for i in range(0, len(test_lines), n)]\n",
    "test_parsed[-1].append('\\n')\n",
    "test_parsed"
   ]
  },
  {
   "cell_type": "code",
   "execution_count": 35,
   "id": "8c3e2bb8",
   "metadata": {},
   "outputs": [
    {
     "data": {
      "text/plain": [
       "['Monkey 0:',\n",
       " 'Starting items: 79, 98',\n",
       " 'Operation: new = old * 19',\n",
       " 'Test: divisible by 23',\n",
       " 'If true: throw to monkey 2',\n",
       " 'If false: throw to monkey 3']"
      ]
     },
     "execution_count": 35,
     "metadata": {},
     "output_type": "execute_result"
    }
   ],
   "source": [
    "[i.strip() for i in test_parsed[0]][:-1]"
   ]
  },
  {
   "cell_type": "code",
   "execution_count": 36,
   "id": "58cb7c6e",
   "metadata": {},
   "outputs": [
    {
     "name": "stdout",
     "output_type": "stream",
     "text": [
      "['Monkey 0:', 'Starting items: 79, 98', 'Operation: new = old * 19', 'Test: divisible by 23', 'If true: throw to monkey 2', 'If false: throw to monkey 3']\n",
      "['Monkey 1:', 'Starting items: 54, 65, 75, 74', 'Operation: new = old + 6', 'Test: divisible by 19', 'If true: throw to monkey 2', 'If false: throw to monkey 0']\n",
      "['Monkey 2:', 'Starting items: 79, 60, 97', 'Operation: new = old * old', 'Test: divisible by 13', 'If true: throw to monkey 1', 'If false: throw to monkey 3']\n",
      "['Monkey 3:', 'Starting items: 74', 'Operation: new = old + 3', 'Test: divisible by 17', 'If true: throw to monkey 0', 'If false: throw to monkey 1']\n"
     ]
    }
   ],
   "source": [
    "for test_monkey in test_parsed:\n",
    "    cleaned = [i.strip() for i in test_monkey][:-1]\n",
    "    print(cleaned)"
   ]
  },
  {
   "cell_type": "code",
   "execution_count": 37,
   "id": "276b77b6",
   "metadata": {},
   "outputs": [],
   "source": [
    "class Monkey:\n",
    "    def __init__(self):\n",
    "        self.name = name\n",
    "        self.starting_items = []\n",
    "        self.operation = {operand: modifier}\n",
    "        self.test = divisible\n",
    "        self.ifTrue = monkey_name_true\n",
    "        self.ifFalse = monkey_name_false"
   ]
  },
  {
   "cell_type": "code",
   "execution_count": null,
   "id": "8e30ed3a",
   "metadata": {},
   "outputs": [],
   "source": []
  }
 ],
 "metadata": {
  "kernelspec": {
   "display_name": "Python 3 (ipykernel)",
   "language": "python",
   "name": "python3"
  },
  "language_info": {
   "codemirror_mode": {
    "name": "ipython",
    "version": 3
   },
   "file_extension": ".py",
   "mimetype": "text/x-python",
   "name": "python",
   "nbconvert_exporter": "python",
   "pygments_lexer": "ipython3",
   "version": "3.9.7"
  }
 },
 "nbformat": 4,
 "nbformat_minor": 5
}
