{
 "cells": [
  {
   "cell_type": "code",
   "execution_count": 106,
   "id": "fd768477",
   "metadata": {},
   "outputs": [],
   "source": [
    "with open(\"test.txt\") as f:\n",
    "    test_lines = f.readlines()\n",
    "    test_lines = [i.strip() for i in test_lines]"
   ]
  },
  {
   "cell_type": "code",
   "execution_count": 107,
   "id": "467924ab",
   "metadata": {},
   "outputs": [
    {
     "data": {
      "text/plain": [
       "['Monkey 0:',\n",
       " 'Starting items: 79, 98',\n",
       " 'Operation: new = old * 19',\n",
       " 'Test: divisible by 23',\n",
       " 'If true: throw to monkey 2',\n",
       " 'If false: throw to monkey 3',\n",
       " '',\n",
       " 'Monkey 1:',\n",
       " 'Starting items: 54, 65, 75, 74',\n",
       " 'Operation: new = old + 6',\n",
       " 'Test: divisible by 19',\n",
       " 'If true: throw to monkey 2',\n",
       " 'If false: throw to monkey 0',\n",
       " '',\n",
       " 'Monkey 2:',\n",
       " 'Starting items: 79, 60, 97',\n",
       " 'Operation: new = old * old',\n",
       " 'Test: divisible by 13',\n",
       " 'If true: throw to monkey 1',\n",
       " 'If false: throw to monkey 3',\n",
       " '',\n",
       " 'Monkey 3:',\n",
       " 'Starting items: 74',\n",
       " 'Operation: new = old + 3',\n",
       " 'Test: divisible by 17',\n",
       " 'If true: throw to monkey 0',\n",
       " 'If false: throw to monkey 1']"
      ]
     },
     "execution_count": 107,
     "metadata": {},
     "output_type": "execute_result"
    }
   ],
   "source": [
    "test_lines"
   ]
  },
  {
   "cell_type": "code",
   "execution_count": 108,
   "id": "729614fa",
   "metadata": {},
   "outputs": [],
   "source": [
    "test_lines.append('')"
   ]
  },
  {
   "cell_type": "code",
   "execution_count": 109,
   "id": "c2cf14c9",
   "metadata": {},
   "outputs": [],
   "source": [
    "monke_list = []\n",
    "for i in range(0, len(test_lines), 7):\n",
    "    monke_list.append(test_lines[i:i+7])"
   ]
  },
  {
   "cell_type": "code",
   "execution_count": 110,
   "id": "8f5444af",
   "metadata": {},
   "outputs": [
    {
     "data": {
      "text/plain": [
       "[['Monkey 0:',\n",
       "  'Starting items: 79, 98',\n",
       "  'Operation: new = old * 19',\n",
       "  'Test: divisible by 23',\n",
       "  'If true: throw to monkey 2',\n",
       "  'If false: throw to monkey 3',\n",
       "  ''],\n",
       " ['Monkey 1:',\n",
       "  'Starting items: 54, 65, 75, 74',\n",
       "  'Operation: new = old + 6',\n",
       "  'Test: divisible by 19',\n",
       "  'If true: throw to monkey 2',\n",
       "  'If false: throw to monkey 0',\n",
       "  ''],\n",
       " ['Monkey 2:',\n",
       "  'Starting items: 79, 60, 97',\n",
       "  'Operation: new = old * old',\n",
       "  'Test: divisible by 13',\n",
       "  'If true: throw to monkey 1',\n",
       "  'If false: throw to monkey 3',\n",
       "  ''],\n",
       " ['Monkey 3:',\n",
       "  'Starting items: 74',\n",
       "  'Operation: new = old + 3',\n",
       "  'Test: divisible by 17',\n",
       "  'If true: throw to monkey 0',\n",
       "  'If false: throw to monkey 1',\n",
       "  '']]"
      ]
     },
     "execution_count": 110,
     "metadata": {},
     "output_type": "execute_result"
    }
   ],
   "source": [
    "monke_list"
   ]
  },
  {
   "cell_type": "code",
   "execution_count": 111,
   "id": "e20ff869",
   "metadata": {},
   "outputs": [
    {
     "name": "stdout",
     "output_type": "stream",
     "text": [
      "Times Fail\n",
      "0 Starting items: 74, 500\n",
      "Times Fail\n",
      "0 Starting items: 74, 620\n",
      "Plus Fail\n",
      "1 Starting items: 79, 98, 20\n",
      "Plus Fail\n",
      "1 Starting items: 79, 98, 23\n",
      "Plus Fail\n",
      "1 Starting items: 79, 98, 27\n",
      "Plus Fail\n",
      "1 Starting items: 79, 98, 26\n",
      "Old Fail\n",
      "2 Starting items: 74, 2080\n",
      "Old Fail\n",
      "2 Starting items: 74, 1200\n",
      "Old Fail\n",
      "2 Starting items: 74, 3136\n",
      "Plus Fail\n",
      "3 Starting items: 54, 65, 75, 74, 25\n"
     ]
    }
   ],
   "source": [
    "for monke in monke_list:\n",
    "    \n",
    "    id_ = monke[0].replace(\"Monkey \", \"\").replace(\":\", \"\")    \n",
    "    items = monke[1].replace(\"Starting items: \", \"\").split(\", \")\n",
    "    operation = monke[2].replace(\"Operation: new = old \", \"\")\n",
    "    test = monke[3].replace(\"Test: divisible by \", \"\")\n",
    "    ifTrue = monke[4].split(' ')[-1]\n",
    "    ifFalse = monke[5].split(' ')[-1]\n",
    "    \n",
    "#    print(items)\n",
    "#    print(operation)\n",
    "#    print(test)\n",
    "#    print(ifTrue)\n",
    "#    print(ifFalse)\n",
    "    \n",
    "    for item in items:\n",
    "        if \"old\" in operation:\n",
    "            worry_value = int(item) * int(item)\n",
    "            new_worry_value = int(worry_value / 3)\n",
    "            if worry_value % int(test) == 0:\n",
    "                new_items = monke[int(ifTrue)][1] + \" \" + str(new_worry_value)\n",
    "                print(\"Old\", \"Pass\")\n",
    "                print(id_, new_items)\n",
    "            else:\n",
    "                new_items = monke_list[int(ifFalse)][1] + \", \" + str(new_worry_value)\n",
    "                print(\"Old\", \"Fail\")                \n",
    "                print(id_, new_items)\n",
    "        elif \"+\" in operation:\n",
    "            worry_value = int(item) + int(operation[1:])\n",
    "            new_worry_value = int(worry_value / 3)\n",
    "            if worry_value % int(test) == 0:\n",
    "                new_items = monke[int(ifTrue)][1] + \" \" + str(new_worry_value)\n",
    "                print(\"Plus\", \"Pass\")\n",
    "                print(id_, new_items)\n",
    "            else:\n",
    "                new_items = monke_list[int(ifFalse)][1] + \", \" + str(new_worry_value)\n",
    "                print(\"Plus\", \"Fail\")\n",
    "                print(id_, new_items)\n",
    "        else:\n",
    "            worry_value = int(item) * int(operation[1:])\n",
    "            new_worry_value = int(worry_value / 3)\n",
    "            if worry_value % int(test) == 0:\n",
    "                new_items = monke[int(ifTrue)][1] + \" \" + str(new_worry_value)\n",
    "                print(\"Times\", \"Pass\")\n",
    "                print(id_, new_items)\n",
    "            else:\n",
    "                new_items = monke_list[int(ifFalse)][1] + \", \" + str(new_worry_value)\n",
    "                print(\"Times\", \"Fail\")\n",
    "                print(id_, new_items)\n",
    "            "
   ]
  },
  {
   "cell_type": "code",
   "execution_count": 72,
   "id": "21763fd3",
   "metadata": {
    "scrolled": false
   },
   "outputs": [
    {
     "data": {
      "text/plain": [
       "[['Monkey 0:',\n",
       "  'Starting items: 79, 98',\n",
       "  'Operation: new = old * 19',\n",
       "  'Test: divisible by 23',\n",
       "  'If true: throw to monkey 2',\n",
       "  'If false: throw to monkey 3',\n",
       "  ''],\n",
       " ['Monkey 1:',\n",
       "  'Starting items: 54, 65, 75, 74',\n",
       "  'Operation: new = old + 6',\n",
       "  'Test: divisible by 19',\n",
       "  'If true: throw to monkey 2',\n",
       "  'If false: throw to monkey 0',\n",
       "  ''],\n",
       " ['Monkey 2:',\n",
       "  'Starting items: 79, 60, 97',\n",
       "  'Operation: new = old * old',\n",
       "  'Test: divisible by 13',\n",
       "  'If true: throw to monkey 1',\n",
       "  'If false: throw to monkey 3',\n",
       "  ''],\n",
       " ['Monkey 3:',\n",
       "  'Starting items: 74',\n",
       "  'Operation: new = old + 3',\n",
       "  'Test: divisible by 17',\n",
       "  'If true: throw to monkey 0',\n",
       "  'If false: throw to monkey 1',\n",
       "  '']]"
      ]
     },
     "execution_count": 72,
     "metadata": {},
     "output_type": "execute_result"
    }
   ],
   "source": [
    "monke_list"
   ]
  },
  {
   "cell_type": "code",
   "execution_count": 73,
   "id": "5704158a",
   "metadata": {},
   "outputs": [
    {
     "data": {
      "text/plain": [
       "[['Monkey 0:',\n",
       "  'Starting items: 54, 65, 75, 74, 3136',\n",
       "  'Operation: new = old * 19',\n",
       "  'Test: divisible by 23',\n",
       "  'If true: throw to monkey 2',\n",
       "  'If false: throw to monkey 3'],\n",
       " ['Monkey 1:',\n",
       "  'Starting items: 79, 98, 3136',\n",
       "  'Operation: new = old + 6',\n",
       "  'Test: divisible by 19',\n",
       "  'If true: throw to monkey 2',\n",
       "  'If false: throw to monkey 0'],\n",
       " ['Monkey 2:',\n",
       "  'Starting items: 74, 3136',\n",
       "  'Operation: new = old * old',\n",
       "  'Test: divisible by 13',\n",
       "  'If true: throw to monkey 1',\n",
       "  'If false: throw to monkey 3'],\n",
       " ['Monkey 3:',\n",
       "  'Starting items: 54, 65, 75, 74, 3136',\n",
       "  'Operation: new = old + 3',\n",
       "  'Test: divisible by 17',\n",
       "  'If true: throw to monkey 0',\n",
       "  'If false: throw to monkey 1']]"
      ]
     },
     "execution_count": 73,
     "metadata": {},
     "output_type": "execute_result"
    }
   ],
   "source": [
    "new_monke_list"
   ]
  },
  {
   "cell_type": "code",
   "execution_count": 113,
   "id": "381d71ee",
   "metadata": {},
   "outputs": [
    {
     "name": "stdout",
     "output_type": "stream",
     "text": [
      "Part 1: 76728\n",
      "Part 2: 21553910156\n"
     ]
    }
   ],
   "source": [
    "import os\n",
    "\n",
    "filename = \"input.txt\"\n",
    "with open(filename, \"r\") as f:\n",
    "    content = f.read().splitlines()\n",
    "\n",
    "monkeyOperations = [(content[x][23:]) for x in range(2, len(content), 7)]\n",
    "monkeyTest = [int(content[x][21:]) for x in range(3, len(content), 7)]\n",
    "monkeyConditions = [[int(content[x][29:]), int(content[x+1][30:])] for x in range(4, len(content), 7)]\n",
    "\n",
    "modulo = 1\n",
    "for i in monkeyTest:\n",
    "    modulo *= i\n",
    "\n",
    "def main(part):\n",
    "    monkeyInspections = [0 for _ in range(len(monkeyTest))]\n",
    "    monkeyItems = [[[int(x) for x in (content[y][18:]).split(\", \")] for y in range(1, len(content), 7)]][0]\n",
    "    for _ in range(0, (20 if part == 1 else 10000 if part == 2 else 0)):\n",
    "        for i in range(0, len(monkeyInspections)):\n",
    "            for j in range(0, len(monkeyItems[i])):\n",
    "                current = monkeyItems[i][j]\n",
    "                if monkeyOperations[i] == \"* old\":\n",
    "                    current *= current\n",
    "                elif monkeyOperations[i][:2] == \"* \":\n",
    "                    current *= int(monkeyOperations[i][2:])\n",
    "                elif monkeyOperations[i][:2] == \"+ \":\n",
    "                    current += int(monkeyOperations[i][2:])\n",
    "                current = current // 3 if part == 1 else current % modulo\n",
    "                if current % monkeyTest[i] == 0:\n",
    "                    monkeyItems[monkeyConditions[i][0]].append(current)\n",
    "                else:\n",
    "                    monkeyItems[monkeyConditions[i][1]].append(current)\n",
    "                monkeyInspections[i] += 1\n",
    "            monkeyItems[i] = []\n",
    "    return sorted(monkeyInspections)[-1]*sorted(monkeyInspections)[-2]\n",
    "\n",
    "print(\"Part 1:\", main(1))\n",
    "print(\"Part 2:\", main(2))"
   ]
  },
  {
   "cell_type": "code",
   "execution_count": null,
   "id": "007c426d",
   "metadata": {},
   "outputs": [],
   "source": []
  }
 ],
 "metadata": {
  "kernelspec": {
   "display_name": "Python 3 (ipykernel)",
   "language": "python",
   "name": "python3"
  },
  "language_info": {
   "codemirror_mode": {
    "name": "ipython",
    "version": 3
   },
   "file_extension": ".py",
   "mimetype": "text/x-python",
   "name": "python",
   "nbconvert_exporter": "python",
   "pygments_lexer": "ipython3",
   "version": "3.9.7"
  }
 },
 "nbformat": 4,
 "nbformat_minor": 5
}
