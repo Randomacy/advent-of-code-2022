{
 "cells": [
  {
   "cell_type": "code",
   "execution_count": 1,
   "id": "d66d5082",
   "metadata": {},
   "outputs": [],
   "source": [
    "import numpy as np\n",
    "from scipy import ndimage"
   ]
  },
  {
   "cell_type": "code",
   "execution_count": 2,
   "id": "1b19a2a3",
   "metadata": {},
   "outputs": [],
   "source": [
    "lava_data = np.loadtxt('input.txt', delimiter=',',  dtype=np.int64)\n",
    "flying_lava = np.zeros((50, 50, 50), dtype=np.int64)"
   ]
  },
  {
   "cell_type": "code",
   "execution_count": 3,
   "id": "585349ad",
   "metadata": {},
   "outputs": [
    {
     "data": {
      "text/plain": [
       "array([[ 7, 16,  8],\n",
       "       [ 9, 12, 17],\n",
       "       [ 9,  5,  3],\n",
       "       ...,\n",
       "       [18, 14,  9],\n",
       "       [ 9, 16,  9],\n",
       "       [ 5, 16,  6]])"
      ]
     },
     "execution_count": 3,
     "metadata": {},
     "output_type": "execute_result"
    }
   ],
   "source": [
    "lava_data"
   ]
  },
  {
   "cell_type": "code",
   "execution_count": 4,
   "id": "0bfb3dff",
   "metadata": {
    "scrolled": true
   },
   "outputs": [
    {
     "data": {
      "text/plain": [
       "array([[[0, 0, 0, ..., 0, 0, 0],\n",
       "        [0, 0, 0, ..., 0, 0, 0],\n",
       "        [0, 0, 0, ..., 0, 0, 0],\n",
       "        ...,\n",
       "        [0, 0, 0, ..., 0, 0, 0],\n",
       "        [0, 0, 0, ..., 0, 0, 0],\n",
       "        [0, 0, 0, ..., 0, 0, 0]],\n",
       "\n",
       "       [[0, 0, 0, ..., 0, 0, 0],\n",
       "        [0, 0, 0, ..., 0, 0, 0],\n",
       "        [0, 0, 0, ..., 0, 0, 0],\n",
       "        ...,\n",
       "        [0, 0, 0, ..., 0, 0, 0],\n",
       "        [0, 0, 0, ..., 0, 0, 0],\n",
       "        [0, 0, 0, ..., 0, 0, 0]],\n",
       "\n",
       "       [[0, 0, 0, ..., 0, 0, 0],\n",
       "        [0, 0, 0, ..., 0, 0, 0],\n",
       "        [0, 0, 0, ..., 0, 0, 0],\n",
       "        ...,\n",
       "        [0, 0, 0, ..., 0, 0, 0],\n",
       "        [0, 0, 0, ..., 0, 0, 0],\n",
       "        [0, 0, 0, ..., 0, 0, 0]],\n",
       "\n",
       "       ...,\n",
       "\n",
       "       [[0, 0, 0, ..., 0, 0, 0],\n",
       "        [0, 0, 0, ..., 0, 0, 0],\n",
       "        [0, 0, 0, ..., 0, 0, 0],\n",
       "        ...,\n",
       "        [0, 0, 0, ..., 0, 0, 0],\n",
       "        [0, 0, 0, ..., 0, 0, 0],\n",
       "        [0, 0, 0, ..., 0, 0, 0]],\n",
       "\n",
       "       [[0, 0, 0, ..., 0, 0, 0],\n",
       "        [0, 0, 0, ..., 0, 0, 0],\n",
       "        [0, 0, 0, ..., 0, 0, 0],\n",
       "        ...,\n",
       "        [0, 0, 0, ..., 0, 0, 0],\n",
       "        [0, 0, 0, ..., 0, 0, 0],\n",
       "        [0, 0, 0, ..., 0, 0, 0]],\n",
       "\n",
       "       [[0, 0, 0, ..., 0, 0, 0],\n",
       "        [0, 0, 0, ..., 0, 0, 0],\n",
       "        [0, 0, 0, ..., 0, 0, 0],\n",
       "        ...,\n",
       "        [0, 0, 0, ..., 0, 0, 0],\n",
       "        [0, 0, 0, ..., 0, 0, 0],\n",
       "        [0, 0, 0, ..., 0, 0, 0]]])"
      ]
     },
     "execution_count": 4,
     "metadata": {},
     "output_type": "execute_result"
    }
   ],
   "source": [
    "flying_lava"
   ]
  },
  {
   "cell_type": "code",
   "execution_count": 5,
   "id": "a78d2d64",
   "metadata": {},
   "outputs": [
    {
     "data": {
      "text/plain": [
       "(50, 50, 50)"
      ]
     },
     "execution_count": 5,
     "metadata": {},
     "output_type": "execute_result"
    }
   ],
   "source": [
    "for x, y, z, in lava_data:\n",
    "    # Add 1 to each coordinate to make the array 1-based\n",
    "    x += 1\n",
    "    y += 1\n",
    "    z += 1\n",
    "    flying_lava[x, y, z] = 1\n",
    "    \n",
    "flying_lava_filled = ndimage.binary_fill_holes(flying_lava).astype(int)\n",
    "flying_lava_filled.shape"
   ]
  },
  {
   "cell_type": "code",
   "execution_count": 7,
   "id": "46953250",
   "metadata": {},
   "outputs": [
    {
     "data": {
      "text/plain": [
       "1996"
      ]
     },
     "execution_count": 7,
     "metadata": {},
     "output_type": "execute_result"
    }
   ],
   "source": [
    "lava_idx = np.where(flying_lava_filled == 1)\n",
    "exposed_surfaces = 0\n",
    "kernel = ndimage.generate_binary_structure(3, 1)\n",
    "for x, y, z in zip(*lava_idx):\n",
    "    # Count how many 0s are around each 1\n",
    "    subset = flying_lava_filled[x-1:x+2, y-1:y+2, z-1:z+2]\n",
    "    inverse = np.logical_not(subset)\n",
    "    exposed_surfaces += np.sum(kernel * inverse)\n",
    "exposed_surfaces"
   ]
  },
  {
   "cell_type": "code",
   "execution_count": 16,
   "id": "ef83f940",
   "metadata": {},
   "outputs": [
    {
     "name": "stdout",
     "output_type": "stream",
     "text": [
      "3326 1996\n"
     ]
    }
   ],
   "source": [
    "body = set(tuple(map(int,e.split(\",\"))) for e in open(\"input.txt\",\"rt\"))\n",
    "\n",
    "neighbors = lambda x,y,z: ((x-1,y,z),(x+1,y,z),(x,y-1,z),(x,y+1,z),(x,y,z-1),(x,y,z+1))\n",
    "\n",
    "p1 = len(body)*6 - sum((p,q,r) in body for x,y,z in body for p,q,r in neighbors(x,y,z))\n",
    "\n",
    "min_x,max_x = min(x for x,y,z in body), max(x for x,y,z in body)\n",
    "min_y,max_y = min(y for x,y,z in body), max(y for x,y,z in body)\n",
    "min_z,max_z = min(z for x,y,z in body), max(z for x,y,z in body)\n",
    "\n",
    "outside = set()\n",
    "candidates = [(min_x-1,min_y-1,min_z-1)]\n",
    "while candidates:\n",
    "  x,y,z = candidates.pop()\n",
    "  outside.add((x,y,z))\n",
    "  for p,q,r in neighbors(x,y,z):\n",
    "    if min_x-1<=p<=max_x+1 and min_y-1<=q<=max_y+1 and min_z-1<=r<=max_z+1:\n",
    "      if (p,q,r) not in body and (p,q,r) not in outside:\n",
    "        candidates.append((p,q,r))\n",
    "\n",
    "p2 = sum((p,q,r) in outside for x,y,z in body for p,q,r in neighbors(x,y,z))\n",
    "\n",
    "print( p1,p2 )"
   ]
  },
  {
   "cell_type": "code",
   "execution_count": null,
   "id": "cfc80ba8",
   "metadata": {},
   "outputs": [],
   "source": []
  }
 ],
 "metadata": {
  "kernelspec": {
   "display_name": "Python 3 (ipykernel)",
   "language": "python",
   "name": "python3"
  },
  "language_info": {
   "codemirror_mode": {
    "name": "ipython",
    "version": 3
   },
   "file_extension": ".py",
   "mimetype": "text/x-python",
   "name": "python",
   "nbconvert_exporter": "python",
   "pygments_lexer": "ipython3",
   "version": "3.9.7"
  }
 },
 "nbformat": 4,
 "nbformat_minor": 5
}
